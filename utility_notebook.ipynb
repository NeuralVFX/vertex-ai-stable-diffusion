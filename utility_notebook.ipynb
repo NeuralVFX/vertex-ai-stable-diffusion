{
 "cells": [
  {
   "cell_type": "markdown",
   "id": "13b8b650",
   "metadata": {},
   "source": [
    "# Save Model To Inference Area"
   ]
  },
  {
   "cell_type": "code",
   "execution_count": null,
   "id": "96208be1",
   "metadata": {},
   "outputs": [],
   "source": [
    "inference_path = 'vertex_test/external_files/inference_model'\n",
    "\n",
    "# Name of model you Fine Tuned on\n",
    "pipe_name =\"CompVis/stable-diffusion-v1-4\"\n",
    "\n",
    "# Replace this with whichever model you'd like to inference\n",
    "import torch\n",
    "from diffusers import StableDiffusionPipeline\n",
    "\n",
    "# This will output the model structure to our inference area\n",
    "pipe = StableDiffusionPipeline.from_pretrained(pipe_name, torch_dtype=torch.float16)\n",
    "pipe.to('cuda')\n",
    "\n",
    "pipe.save_pretrained(inference_path)"
   ]
  },
  {
   "cell_type": "markdown",
   "id": "391d2be2",
   "metadata": {},
   "source": [
    "# Test TorchServe"
   ]
  },
  {
   "cell_type": "code",
   "execution_count": 9,
   "id": "7cf5b991",
   "metadata": {},
   "outputs": [
    {
     "name": "stdout",
     "output_type": "stream",
     "text": [
      "WARNING - Overwriting vertex_test/model-store/stable-diffusion.mar ...\r\n"
     ]
    }
   ],
   "source": [
    "!torch-model-archiver --model-name stable-diffusion --version 1.0 --handler vertex_test/stable_diffusion_handler.py --export-path vertex_test/model-store -f --extra-files vertex_test/external_files"
   ]
  },
  {
   "cell_type": "code",
   "execution_count": 7,
   "id": "1f5c39ae",
   "metadata": {},
   "outputs": [],
   "source": [
    "!torchserve --start  --models=stable-diffusion.mar --model-store=vertex_test/model-store --ts-config=config.properties"
   ]
  },
  {
   "cell_type": "markdown",
   "id": "d0d19ff7",
   "metadata": {},
   "source": [
    "# Test Docker"
   ]
  },
  {
   "cell_type": "code",
   "execution_count": null,
   "id": "795fefaa",
   "metadata": {},
   "outputs": [],
   "source": [
    "!docker build -t serve_sd ."
   ]
  },
  {
   "cell_type": "code",
   "execution_count": null,
   "id": "f649b692",
   "metadata": {},
   "outputs": [],
   "source": [
    "!docker run --runtime=nvidia -p 7080:7080 serve_sd "
   ]
  },
  {
   "cell_type": "markdown",
   "id": "b86ce08a",
   "metadata": {},
   "source": [
    "# Test Response Locally"
   ]
  },
  {
   "cell_type": "code",
   "execution_count": 10,
   "id": "7d25eb7c",
   "metadata": {},
   "outputs": [],
   "source": [
    "import requests\n",
    "prompt = \"A crazy dog running around\"\n",
    "URL = \"http://127.0.0.1:7080/predictions/stable-diffusion\"\n",
    "response = requests.post(URL, data=prompt)"
   ]
  },
  {
   "cell_type": "markdown",
   "id": "845a53eb",
   "metadata": {},
   "source": [
    "# Test On Vertex AI After Deploy"
   ]
  },
  {
   "cell_type": "code",
   "execution_count": null,
   "id": "b5e268c7",
   "metadata": {},
   "outputs": [],
   "source": [
    "from google.cloud import aiplatform as aip\n",
    "\n",
    "PROJECT_NAME = \"XXXXXXXXXXXXXXXXXX\" # Replace with your project name\n",
    "REGION=\"us-central1\" # Replace with the region you've deployed to\n",
    "ENDPOINT_ID = \"6166813274521206784\" # Replace with your endpoint\n",
    " \n",
    "aip.init(project=PROJECT_NAME, location=REGION)\n",
    "endpoint = aip.Endpoint(endpoint_name=ENDPOINT_ID)\n",
    "text_input = \"\"\"A crazy dog running around\"\"\"\n",
    "\n",
    "def query_endpoint(endpoint, text_input):\n",
    " payload = {\"data\": text_input}\n",
    " response = endpoint.predict(instances=[payload])\n",
    " return response\n",
    "\n",
    "image = query_endpoint(endpoint, text_input)"
   ]
  },
  {
   "cell_type": "markdown",
   "id": "d467f717",
   "metadata": {},
   "source": [
    "# Remove Model and Endpoint From Vertex AI"
   ]
  },
  {
   "cell_type": "code",
   "execution_count": null,
   "id": "6e2d3188",
   "metadata": {},
   "outputs": [],
   "source": [
    "endpoints = aip.Endpoint.list()\n",
    "for i in endpoints:\n",
    "        i.undeploy_all()"
   ]
  }
 ],
 "metadata": {
  "kernelspec": {
   "display_name": "Python 3",
   "language": "python",
   "name": "python3"
  },
  "language_info": {
   "codemirror_mode": {
    "name": "ipython",
    "version": 3
   },
   "file_extension": ".py",
   "mimetype": "text/x-python",
   "name": "python",
   "nbconvert_exporter": "python",
   "pygments_lexer": "ipython3",
   "version": "3.7.16"
  }
 },
 "nbformat": 4,
 "nbformat_minor": 5
}
